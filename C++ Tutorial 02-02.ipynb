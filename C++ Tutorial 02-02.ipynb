{
 "cells": [
  {
   "cell_type": "markdown",
   "metadata": {},
   "source": [
    "# C++ Tutorial 02-02"
   ]
  },
  {
   "cell_type": "markdown",
   "metadata": {},
   "source": [
    "**Exercise**\n",
    "\n",
    "Determine the grade a student will go to based off of their age."
   ]
  },
  {
   "cell_type": "code",
   "execution_count": 1,
   "metadata": {},
   "outputs": [],
   "source": [
    "#include <cstdlib>\n",
    "#include <iostream>\n",
    "#include <string>\n",
    "#include <vector>\n",
    "#include <sstream>\n",
    "#include <limits>"
   ]
  },
  {
   "cell_type": "code",
   "execution_count": 2,
   "metadata": {},
   "outputs": [],
   "source": [
    "int main() {\n",
    "    \n",
    "    std::string sAge = \"0\";\n",
    "    int nGrade = 0;\n",
    "    std::cout << \"Enter age: \";\n",
    "    getline(std::cin, sAge);\n",
    "    int nAge = std::stoi(sAge);\n",
    "    \n",
    "//  Note that you can leave out the curly brackets if it's only one line\n",
    "    if (nAge < 5)\n",
    "        std::cout << \"Too young for school\\n\";\n",
    "    else if (nAge == 5)\n",
    "        std::cout << \"Go to kindergarten\\n\";\n",
    "    else if (nAge <= 17)\n",
    "        std::cout << \"Go to grade \" << nAge - 5 << \"\\n\";\n",
    "    else\n",
    "        std::cout << \"Go to college\\n\";\n",
    "    \n",
    "    return 0;\n",
    "}"
   ]
  },
  {
   "cell_type": "code",
   "execution_count": null,
   "metadata": {},
   "outputs": [],
   "source": []
  }
 ],
 "metadata": {
  "kernelspec": {
   "display_name": "C++17",
   "language": "C++17",
   "name": "xeus-cling-cpp17"
  },
  "language_info": {
   "codemirror_mode": "text/x-c++src",
   "file_extension": ".cpp",
   "mimetype": "text/x-c++src",
   "name": "c++",
   "version": "-std=c++17"
  }
 },
 "nbformat": 4,
 "nbformat_minor": 2
}
