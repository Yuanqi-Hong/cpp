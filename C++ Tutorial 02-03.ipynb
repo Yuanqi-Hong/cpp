{
 "cells": [
  {
   "cell_type": "markdown",
   "metadata": {},
   "source": [
    "# C++ Tutorial 02-03"
   ]
  },
  {
   "cell_type": "markdown",
   "metadata": {},
   "source": [
    "**Arrays**."
   ]
  },
  {
   "cell_type": "code",
   "execution_count": 1,
   "metadata": {},
   "outputs": [],
   "source": [
    "#include <cstdlib>\n",
    "#include <iostream>\n",
    "#include <string>\n",
    "#include <vector>\n",
    "#include <sstream>\n",
    "#include <limits>"
   ]
  },
  {
   "cell_type": "code",
   "execution_count": 2,
   "metadata": {},
   "outputs": [],
   "source": [
    "int main() {\n",
    "    \n",
    "//  These are a couple of ways to create arrays\n",
    "//  syntax: int array[length (leave blank if you don't want to specify the length)] = {elements};\n",
    "//  Note arrays are in curly brackets not square ones\n",
    "//  Also note that the indexing syntax is array[index]\n",
    "    \n",
    "    int arrnNums1[10] = {1};\n",
    "    int arrnNums2[] = {1,2,3};\n",
    "    int arrnNums3[5] = {8,9};\n",
    "    \n",
    "    std::cout << \"1st value: \" << arrnNums3[0] << \"\\n\";\n",
    "    \n",
    "//  Change an element in an array\n",
    "    arrnNums3[0] = 7;\n",
    "    \n",
    "//  Size(length) of an array\n",
    "//  Note the star sign is a pointer we'll get into more details of later on\n",
    "    std::cout << \"Array size: \" << sizeof(arrnNums3) / sizeof(*arrnNums3) << \"\\n\";\n",
    "    \n",
    "//  Multi-dimension arrays\n",
    "//  array_name[pages][columns][rows]\n",
    "    int arrnNums4[2][2][2] = {{{1,2},{3,4}},{{5,6},{7,8}}};\n",
    "    std::cout << arrnNums4[1][1][1] << \"\\n\";\n",
    "    \n",
    "    return 0;\n",
    "}"
   ]
  }
 ],
 "metadata": {
  "kernelspec": {
   "display_name": "C++17",
   "language": "C++17",
   "name": "xeus-cling-cpp17"
  },
  "language_info": {
   "codemirror_mode": "text/x-c++src",
   "file_extension": ".cpp",
   "mimetype": "text/x-c++src",
   "name": "c++",
   "version": "-std=c++17"
  }
 },
 "nbformat": 4,
 "nbformat_minor": 2
}
