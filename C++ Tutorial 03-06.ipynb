{
 "cells": [
  {
   "cell_type": "markdown",
   "metadata": {},
   "source": [
    "# C++ Tutorial 03-06"
   ]
  },
  {
   "cell_type": "code",
   "execution_count": 1,
   "metadata": {},
   "outputs": [],
   "source": [
    "#include <cstdlib>\n",
    "#include <iostream>\n",
    "#include <string>\n",
    "#include <vector>\n",
    "#include <numeric>"
   ]
  },
  {
   "cell_type": "markdown",
   "metadata": {
    "scrolled": true
   },
   "source": [
    "```C++\n",
    "void DoubleArray(int* arr, int size);\n",
    "\n",
    "int main() {\n",
    "    int arr[] = {1,2,3,4};\n",
    "    DoubleArray(arr, 4);\n",
    "    for(int i = 0; i < 4; ++i){\n",
    "        std::cout << \"Array \" << arr[i] << \"\\n\";\n",
    "    }\n",
    "    return 0;\n",
    "}\n",
    "\n",
    "void DoubleArray(int* arr, int size){\n",
    "    for(int i = 0; i < size; ++i){\n",
    "        arr[i] = arr[i] * 2;\n",
    "    }\n",
    "}\n",
    "```"
   ]
  }
 ],
 "metadata": {
  "kernelspec": {
   "display_name": "C++17",
   "language": "C++17",
   "name": "xeus-cling-cpp17"
  },
  "language_info": {
   "codemirror_mode": "text/x-c++src",
   "file_extension": ".cpp",
   "mimetype": "text/x-c++src",
   "name": "c++",
   "version": "-std=c++17"
  }
 },
 "nbformat": 4,
 "nbformat_minor": 2
}
