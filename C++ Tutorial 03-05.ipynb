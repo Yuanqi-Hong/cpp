{
 "cells": [
  {
   "cell_type": "markdown",
   "metadata": {},
   "source": [
    "# C++ Tutorial 03-05"
   ]
  },
  {
   "cell_type": "markdown",
   "metadata": {},
   "source": [
    "```C++\n",
    "// changing values assigned to variables\n",
    "// using pointers\n",
    "// see Xcode projects for demo\n",
    "\n",
    "#include <cstdlib>\n",
    "#include <iostream>\n",
    "#include <string>\n",
    "#include <vector>\n",
    "#include <numeric>\n",
    "\n",
    "void AssignAge3(int* pAge);\n",
    "\n",
    "int main(){\n",
    "    int age = 43;\n",
    "    AssignAge3(&age);\n",
    "    std::cout << \"Pointer Age \" << age << \"\\n\";\n",
    "    return 0;\n",
    "}\n",
    "\n",
    "void AssignAge3(int* pAge){\n",
    "    *pAge = 22;\n",
    "}\n",
    "```"
   ]
  }
 ],
 "metadata": {
  "kernelspec": {
   "display_name": "C++17",
   "language": "C++17",
   "name": "xeus-cling-cpp17"
  },
  "language_info": {
   "codemirror_mode": "text/x-c++src",
   "file_extension": ".cpp",
   "mimetype": "text/x-c++src",
   "name": "c++",
   "version": "-std=c++17"
  }
 },
 "nbformat": 4,
 "nbformat_minor": 2
}
